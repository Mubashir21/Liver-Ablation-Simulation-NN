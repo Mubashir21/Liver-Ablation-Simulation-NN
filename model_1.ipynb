{
  "cells": [
    {
      "cell_type": "markdown",
      "metadata": {
        "id": "view-in-github",
        "colab_type": "text"
      },
      "source": [
        "<a href=\"https://colab.research.google.com/github/Mubashir21/Liver-Ablation-Simulation-NN/blob/main/model_1.ipynb\" target=\"_parent\"><img src=\"https://colab.research.google.com/assets/colab-badge.svg\" alt=\"Open In Colab\"/></a>"
      ]
    },
    {
      "cell_type": "code",
      "execution_count": null,
      "metadata": {
        "id": "CBEkAvOu7oBd"
      },
      "outputs": [],
      "source": [
        "!pip install neuraloperator\n",
        "!pip install tensorly\n",
        "!pip install tensorly-torch\n",
        "!pip install wandb\n",
        "!pip install zarr\n",
        "!pip install torch-harmonics"
      ]
    },
    {
      "cell_type": "code",
      "execution_count": null,
      "metadata": {
        "id": "aLWi24jG79ku"
      },
      "outputs": [],
      "source": [
        "from scipy.io import loadmat\n",
        "import pandas as pd\n",
        "import torch\n",
        "from torch import nn\n",
        "import numpy as np\n",
        "from neuralop.models import FNO"
      ]
    },
    {
      "cell_type": "code",
      "execution_count": null,
      "metadata": {
        "colab": {
          "base_uri": "https://localhost:8080/"
        },
        "id": "-KsK6h1j_ntB",
        "outputId": "eecd1170-3f87-49c9-d607-e988f8aabc00"
      },
      "outputs": [
        {
          "output_type": "execute_result",
          "data": {
            "text/plain": [
              "(array([[63.23 , 63.272, 63.396, ..., 63.396, 63.272, 63.23 ],\n",
              "        [63.188, 63.229, 63.353, ..., 63.353, 63.229, 63.188],\n",
              "        [63.063, 63.103, 63.226, ..., 63.226, 63.103, 63.063],\n",
              "        ...,\n",
              "        [37.017, 37.017, 37.017, ..., 37.017, 37.017, 37.017],\n",
              "        [37.008, 37.008, 37.009, ..., 37.009, 37.008, 37.008],\n",
              "        [37.   , 37.   , 37.   , ..., 37.   , 37.   , 37.   ]]),\n",
              " 103)"
            ]
          },
          "metadata": {},
          "execution_count": 28
        }
      ],
      "source": [
        "data1=loadmat(\"/content/drive/MyDrive/data_SEGP/CASE01_DATA.mat\")\n",
        "data1[\"T405\"], len(data1.keys())"
      ]
    },
    {
      "cell_type": "code",
      "execution_count": null,
      "metadata": {
        "id": "pwIVCyI3AgU3"
      },
      "outputs": [],
      "source": [
        "del data1[\"__header__\"]\n",
        "del data1[\"__version__\"]\n",
        "del data1[\"__globals__\"]"
      ]
    },
    {
      "cell_type": "code",
      "execution_count": null,
      "metadata": {
        "id": "Xkeic2H2RwiC",
        "colab": {
          "base_uri": "https://localhost:8080/"
        },
        "outputId": "41f14ad8-5114-4317-a0fa-69b7b597a177"
      },
      "outputs": [
        {
          "output_type": "stream",
          "name": "stdout",
          "text": [
            "T495\n"
          ]
        }
      ],
      "source": [
        "# train_split = round()\n",
        "data1_1 = []\n",
        "for count, time in enumerate(data1):\n",
        "    data_sample = data1[time].tolist()\n",
        "    if (count == 1):\n",
        "        data_sample[0].pop(0)\n",
        "        np_sample = np.array(data_sample).reshape((101, 101)).T\n",
        "        data_sample = np_sample.tolist()\n",
        "    elif (count == 99):\n",
        "        np_sample = np.array(data_sample).reshape((101, 101)).T\n",
        "        data_sample = np_sample.tolist()\n",
        "    data1_1.append(data_sample)\n",
        "\n",
        "data1_1 = np.array(data1_1)"
      ]
    },
    {
      "cell_type": "code",
      "execution_count": null,
      "metadata": {
        "colab": {
          "base_uri": "https://localhost:8080/",
          "height": 350
        },
        "id": "1nO4cXBo-8-R",
        "outputId": "27edec18-29d9-47fc-b504-72ba77b85ee8"
      },
      "outputs": [
        {
          "output_type": "execute_result",
          "data": {
            "text/plain": [
              "(-0.5, 100.5, 100.5, -0.5)"
            ]
          },
          "metadata": {},
          "execution_count": 9
        },
        {
          "output_type": "display_data",
          "data": {
            "text/plain": [
              "<Figure size 900x900 with 4 Axes>"
            ],
            "image/png": "[encoded data removed]"
          },
          "metadata": {}
        }
      ],
      "source": [
        "import matplotlib.pyplot as plt\n",
        "\n",
        "fig = plt.figure(figsize=(9, 9))\n",
        "vmin = 0  # Minimum temperature value\n",
        "vmax = 80  # Maximum temperature value\n",
        "\n",
        "fig.add_subplot(1, 2, 1)\n",
        "sample1 = 0\n",
        "plt.title(f\"Time={sample1 * 5}\")\n",
        "heatmap = plt.imshow(data1_1[sample1], cmap='inferno', interpolation='nearest')\n",
        "plt.colorbar(label='Temperature (°C)', shrink=0.4)\n",
        "heatmap.set_clim(vmin, vmax)  # Set the colorbar scale explicitly\n",
        "plt.axis(False)\n",
        "\n",
        "fig.add_subplot(1, 2, 2)\n",
        "sample2 = 99\n",
        "plt.title(f\"Time={sample2 * 5}\")\n",
        "heatmap = plt.imshow(data1_1[sample2], cmap='inferno', interpolation='nearest')\n",
        "plt.colorbar(label='Temperature (°C)', shrink=0.4)\n",
        "heatmap.set_clim(vmin, vmax)  # Set the colorbar scale explicitly\n",
        "plt.axis(False)"
      ]
    },
    {
      "cell_type": "code",
      "execution_count": null,
      "metadata": {
        "colab": {
          "base_uri": "https://localhost:8080/"
        },
        "id": "Cg3cwVEDtCXI",
        "outputId": "60a6c641-65a2-4e94-9592-64c6faf5ee0e"
      },
      "outputs": [
        {
          "output_type": "execute_result",
          "data": {
            "text/plain": [
              "(80, 20)"
            ]
          },
          "metadata": {},
          "execution_count": 10
        }
      ],
      "source": [
        "train_split = round(0.8 * len(data1_1))\n",
        "\n",
        "data_train = data1_1[:train_split]\n",
        "data_test = data1_1[train_split:]\n",
        "len(data_train), len(data_test)"
      ]
    },
    {
      "cell_type": "code",
      "execution_count": null,
      "metadata": {
        "colab": {
          "base_uri": "https://localhost:8080/"
        },
        "id": "9XZhtxC8xf29",
        "outputId": "ffae23e9-29f9-4ab8-80f4-99ef5fa51ea8"
      },
      "outputs": [
        {
          "output_type": "execute_result",
          "data": {
            "text/plain": [
              "(79, 79, 19, 19)"
            ]
          },
          "metadata": {},
          "execution_count": 40
        }
      ],
      "source": [
        "X_train = []\n",
        "y_train = []\n",
        "\n",
        "X_test = []\n",
        "y_test = []\n",
        "\n",
        "for i in range(len(data_train) - 1):\n",
        "    X_train.append(data_train[i])\n",
        "    y_train.append(data_train[i+1])\n",
        "for i in range(len(data_test) - 1):\n",
        "    X_test.append(data_train[i])\n",
        "    y_test.append(data_train[i+1])\n",
        "len(X_train), len(y_train), len(X_test), len(y_test)"
      ]
    },
    {
      "cell_type": "code",
      "execution_count": null,
      "metadata": {
        "colab": {
          "base_uri": "https://localhost:8080/"
        },
        "id": "KyagtsFOy3Yc",
        "outputId": "a6f7d3cb-c22d-4560-e24f-cf54eb4d982d"
      },
      "outputs": [
        {
          "output_type": "execute_result",
          "data": {
            "text/plain": [
              "(torch.Size([79, 1, 101, 101]),\n",
              " torch.Size([19, 1, 101, 101]),\n",
              " torch.Size([79, 1, 101, 101]),\n",
              " torch.Size([19, 1, 101, 101]),\n",
              " tensor([[[37., 37., 37.,  ..., 37., 37., 37.],\n",
              "          [37., 37., 37.,  ..., 37., 37., 37.],\n",
              "          [37., 37., 37.,  ..., 37., 37., 37.],\n",
              "          ...,\n",
              "          [37., 37., 37.,  ..., 37., 37., 37.],\n",
              "          [37., 37., 37.,  ..., 37., 37., 37.],\n",
              "          [37., 37., 37.,  ..., 37., 37., 37.]]]))"
            ]
          },
          "metadata": {},
          "execution_count": 41
        }
      ],
      "source": [
        "# Convert lists of NumPy arrays to a single NumPy array\n",
        "X_train = np.array(X_train)\n",
        "X_test = np.array(X_test)\n",
        "y_train = np.array(y_train)\n",
        "y_test = np.array(y_test)\n",
        "\n",
        "# Convert NumPy arrays to PyTorch tensors\n",
        "X_train = torch.tensor(X_train).unsqueeze(1).to(torch.float)\n",
        "X_test = torch.tensor(X_test).unsqueeze(1).to(torch.float)\n",
        "y_train = torch.tensor(y_train).unsqueeze(1).to(torch.float)\n",
        "y_test = torch.tensor(y_test).unsqueeze(1).to(torch.float)\n",
        "\n",
        "X_train.shape, X_test.shape, y_train.shape, y_test.shape, X_train[0]"
      ]
    },
    {
      "cell_type": "code",
      "execution_count": null,
      "metadata": {
        "id": "x6THhaVDUfox"
      },
      "outputs": [],
      "source": [
        "def plotImage(x, index, message):\n",
        "    # plt.title(f\"Time={sample1 * 5}\")?\n",
        "    heatmap = plt.imshow(x, cmap='inferno', interpolation='nearest')\n",
        "    plt.colorbar(label='Temperature (°C)')\n",
        "    heatmap.set_clim(vmin, vmax)  # Set the colorbar scale explicitly\n",
        "    plt.axis(False)\n",
        "    plt.title(f\"{message} at time={(79 + index) * 5}\")"
      ]
    },
    {
      "cell_type": "code",
      "source": [
        "class SpectralConv2d(nn.Module):\n",
        "    def __init__(self,\n",
        "                 in_channels,   # Number of input channels\n",
        "                 out_channels,  # Number of output channels\n",
        "                 modes1,        # Number of Fourier modes to multiply in the first dimension\n",
        "                 modes2):       # Number of Fourier modes to multiply in the second dimension\n",
        "        super(SpectralConv2d, self).__init__()\n",
        "\n",
        "        self.in_channels = in_channels\n",
        "        self.out_channels = out_channels\n",
        "        self.modes1 = modes1\n",
        "        self.modes2 = modes2\n",
        "\n",
        "        self.scale = (1 / (in_channels * out_channels))\n",
        "        self.weights1 = nn.Parameter(self.scale * torch.rand(in_channels, out_channels, self.modes1, self.modes2, dtype=torch.cfloat))\n",
        "        self.weights2 = nn.Parameter(self.scale * torch.rand(in_channels, out_channels, self.modes1, self.modes2, dtype=torch.cfloat))\n",
        "\n",
        "    def forward(self, x):\n",
        "        batchsize = x.shape[0]\n",
        "        #Compute Fourier coeffcients\n",
        "        x_ft = torch.fft.rfft2(x)\n",
        "\n",
        "        # Multiply relevant Fourier modes\n",
        "        out_ft = torch.zeros(batchsize, self.out_channels,  x.size(-2), x.size(-1)//2 + 1, dtype=torch.cfloat, device=x.device)\n",
        "        out_ft[:, :, :self.modes1, :self.modes2] = \\\n",
        "            self.compl_mul2d(x_ft[:, :, :self.modes1, :self.modes2], self.weights1)\n",
        "        out_ft[:, :, -self.modes1:, :self.modes2] = \\\n",
        "            self.compl_mul2d(x_ft[:, :, -self.modes1:, :self.modes2], self.weights2)\n",
        "\n",
        "        #Return to physical space\n",
        "        x = torch.fft.irfft2(out_ft, s=(x.size(-2), x.size(-1)))\n",
        "        return x\n",
        "\n",
        "    def compl_mul2d(self, input, weights):\n",
        "        # (batch, in_channel, x,y ), (in_channel, out_channel, x,y) -> (batch, out_channel, x,y)\n",
        "        return torch.einsum(\"bixy,ioxy->boxy\", input, weights)"
      ],
      "metadata": {
        "id": "wn17bwut9am0"
      },
      "execution_count": null,
      "outputs": []
    },
    {
      "cell_type": "code",
      "source": [
        "model2 = SpectralConv2d(1, 1, 1, 2)\n",
        "sample = X_train[1]\n",
        "pred = model2.forward(X_test)\n",
        "pred = pred.detach().numpy()\n",
        "plotImage(pred[10].squeeze(), 10, \"Predicted\")"
      ],
      "metadata": {
        "colab": {
          "base_uri": "https://localhost:8080/",
          "height": 437
        },
        "id": "OOIS39xJ_9S2",
        "outputId": "6af8c7f2-657f-4d8f-fc05-a26f46f5dc68"
      },
      "execution_count": null,
      "outputs": [
        {
          "output_type": "display_data",
          "data": {
            "text/plain": [
              "<Figure size 640x480 with 2 Axes>"
            ],
            "image/png": "[encoded data removed]"
          },
          "metadata": {}
        }
      ]
    },
    {
      "cell_type": "code",
      "execution_count": null,
      "metadata": {
        "id": "0KB9rfovSBJc"
      },
      "outputs": [],
      "source": [
        "class Model1(nn.Module):\n",
        "    def __init__(self):\n",
        "        super().__init__()\n",
        "        # Encoder layers\n",
        "        self.encoder = nn.Sequential(\n",
        "            nn.Conv2d(1, 16, kernel_size=3, padding=1),\n",
        "            nn.ReLU(inplace=True),\n",
        "            nn.Conv2d(16, 32, kernel_size=3, padding=1),\n",
        "            nn.ReLU(inplace=True),\n",
        "            nn.Conv2d(32, 64, kernel_size=3, padding=1),\n",
        "            nn.ReLU(inplace=True)\n",
        "        )\n",
        "\n",
        "        # Decoder layers\n",
        "        self.decoder = nn.Sequential(\n",
        "            nn.Conv2d(64, 32, kernel_size=3, padding=1),\n",
        "            nn.ReLU(inplace=True),\n",
        "            nn.Conv2d(32, 16, kernel_size=3, padding=1),\n",
        "            nn.ReLU(inplace=True),\n",
        "            nn.Conv2d(16, 1, kernel_size=3, padding=1),\n",
        "            # nn.Sigmoid()  # Use sigmoid activation for pixel values in the range [0, 1]\n",
        "        )\n",
        "\n",
        "    def forward(self, x):\n",
        "        # Encoder\n",
        "        x = self.encoder(x)\n",
        "\n",
        "        # Decoder\n",
        "        x = self.decoder(x)\n",
        "\n",
        "        return x"
      ]
    },
    {
      "cell_type": "code",
      "execution_count": null,
      "metadata": {
        "id": "C35kI3ecSRFy"
      },
      "outputs": [],
      "source": [
        "model1 = Model1()\n",
        "# y_preds[0:5]\n",
        "# plotImage(output.squeeze())"
      ]
    },
    {
      "cell_type": "code",
      "execution_count": null,
      "metadata": {
        "id": "xTFct_u187rz"
      },
      "outputs": [],
      "source": [
        "from neuralop import LpLoss, H1Loss\n",
        "\n",
        "loss_fn = LpLoss(d=2, p=2)\n",
        "# loss_fn = H1Loss(d=2)\n",
        "\n",
        "# loss_fn = nn.MSELoss()\n",
        "optimizer = torch.optim.Adam(params=model2.parameters(), lr=0.01)"
      ]
    },
    {
      "cell_type": "code",
      "execution_count": null,
      "metadata": {
        "colab": {
          "base_uri": "https://localhost:8080/"
        },
        "id": "emljodkKYCkz",
        "outputId": "3abf622f-91b4-40b0-e036-1ad3ee8eaff0"
      },
      "outputs": [
        {
          "output_type": "stream",
          "name": "stdout",
          "text": [
            "Epoch: 0 | Loss: 33.23783 | Test Loss: 7.57715\n",
            "Epoch: 5 | Loss: 29.61799 | Test Loss: 6.67597\n",
            "Epoch: 10 | Loss: 26.08500 | Test Loss: 5.78948\n",
            "Epoch: 15 | Loss: 22.68465 | Test Loss: 4.92715\n",
            "Epoch: 20 | Loss: 19.48907 | Test Loss: 4.10502\n",
            "Epoch: 25 | Loss: 16.61205 | Test Loss: 3.35102\n",
            "Epoch: 30 | Loss: 14.22184 | Test Loss: 2.71221\n",
            "Epoch: 35 | Loss: 12.51880 | Test Loss: 2.25541\n",
            "Epoch: 40 | Loss: 11.61540 | Test Loss: 2.02969\n",
            "Epoch: 45 | Loss: 11.35357 | Test Loss: 1.98913\n",
            "Epoch: 50 | Loss: 11.35722 | Test Loss: 2.01282\n",
            "Epoch: 55 | Loss: 11.34041 | Test Loss: 2.02032\n",
            "Epoch: 60 | Loss: 11.23432 | Test Loss: 2.00048\n",
            "Epoch: 65 | Loss: 11.09430 | Test Loss: 1.97366\n",
            "Epoch: 70 | Loss: 10.98316 | Test Loss: 1.95712\n",
            "Epoch: 75 | Loss: 10.91731 | Test Loss: 1.95256\n",
            "Epoch: 80 | Loss: 10.87733 | Test Loss: 1.95242\n",
            "Epoch: 85 | Loss: 10.84166 | Test Loss: 1.95065\n",
            "Epoch: 90 | Loss: 10.80377 | Test Loss: 1.94649\n",
            "Epoch: 95 | Loss: 10.76743 | Test Loss: 1.94190\n"
          ]
        }
      ],
      "source": [
        "#MODEL NO Training\n",
        "\n",
        "epochs = 100\n",
        "\n",
        "for epoch in range(epochs):\n",
        "    model2.train()\n",
        "\n",
        "    y_pred = model2(X_train)\n",
        "\n",
        "    loss = loss_fn(y_pred, y_train)\n",
        "    # acc = acc_fn(y_preds, y_train)\n",
        "\n",
        "    optimizer.zero_grad()\n",
        "\n",
        "    loss.backward()\n",
        "\n",
        "    optimizer.step()\n",
        "\n",
        "    if epoch % 5 == 0:\n",
        "        model2.eval()\n",
        "        with torch.inference_mode():\n",
        "            test_pred = model2(X_test)\n",
        "\n",
        "        test_loss = loss_fn(test_pred, y_test)\n",
        "        # test_acc = acc_fn(test_pred, y_test)\n",
        "        print(f\"Epoch: {epoch} | Loss: {loss:.5f} | Test Loss: {test_loss:.5f}\")"
      ]
    },
    {
      "cell_type": "code",
      "source": [
        "# #MODEL CNN Training\n",
        "\n",
        "# epochs = 20\n",
        "\n",
        "# for epoch in range(epochs):\n",
        "#     model1.train()\n",
        "\n",
        "#     y_pred = model1(X_train)\n",
        "\n",
        "#     loss = loss_fn(y_pred, y_train)\n",
        "#     # acc = acc_fn(y_preds, y_train)\n",
        "\n",
        "#     optimizer.zero_grad()\n",
        "\n",
        "#     loss.backward()\n",
        "\n",
        "#     optimizer.step()\n",
        "\n",
        "#     if epoch % 5 == 0:\n",
        "#         model1.eval()\n",
        "#         with torch.inference_mode():\n",
        "#             test_pred = model1(X_test)\n",
        "\n",
        "#         test_loss = loss_fn(test_pred, y_test)\n",
        "#         # test_acc = acc_fn(test_pred, y_test)\n",
        "#         print(f\"Epoch: {epoch} | Loss: {loss:.5f} | Test Loss: {test_loss:.5f}\")"
      ],
      "metadata": {
        "id": "ZQVP1l1uecO0"
      },
      "execution_count": null,
      "outputs": []
    },
    {
      "cell_type": "code",
      "execution_count": null,
      "metadata": {
        "id": "8lnghqSovMmz"
      },
      "outputs": [],
      "source": [
        "with torch.inference_mode():\n",
        "    y_preds = model2(X_test)"
      ]
    },
    {
      "cell_type": "code",
      "source": [
        "plotImage(y_test[10].squeeze().numpy(), 10, \"Actual\")"
      ],
      "metadata": {
        "colab": {
          "base_uri": "https://localhost:8080/",
          "height": 437
        },
        "id": "_YWoAuCHS86i",
        "outputId": "384d4e81-9e79-4b98-f9be-58a94b31ff07"
      },
      "execution_count": null,
      "outputs": [
        {
          "output_type": "display_data",
          "data": {
            "text/plain": [
              "<Figure size 640x480 with 2 Axes>"
            ],
            "image/png": "[encoded data removed]"
          },
          "metadata": {}
        }
      ]
    },
    {
      "cell_type": "code",
      "source": [
        "plotImage(y_preds[10].squeeze().numpy(), 10, \"Predicted\")\n",
        "# y_preds[4][0][80][30], y_test[4][0][80][30]"
      ],
      "metadata": {
        "colab": {
          "base_uri": "https://localhost:8080/",
          "height": 437
        },
        "id": "y8ubIdWaTLHK",
        "outputId": "4015f0cf-ec6b-422d-da32-e5b1c9c4e5ee"
      },
      "execution_count": null,
      "outputs": [
        {
          "output_type": "display_data",
          "data": {
            "text/plain": [
              "<Figure size 640x480 with 2 Axes>"
            ],
            "image/png": "[encoded data removed]"
          },
          "metadata": {}
        }
      ]
    },
    {
      "cell_type": "code",
      "source": [
        "!git add ."
      ],
      "metadata": {
        "colab": {
          "base_uri": "https://localhost:8080/"
        },
        "id": "XDqri48sovM-",
        "outputId": "6857e411-855d-4530-9afa-ce81807710c0"
      },
      "execution_count": null,
      "outputs": [
        {
          "output_type": "stream",
          "name": "stdout",
          "text": [
            "error: open(\"drive/MyDrive/ACE - Semester 2.gdoc\"): Operation not supported\n",
            "error: unable to index file 'drive/MyDrive/ACE - Semester 2.gdoc'\n",
            "fatal: adding files failed\n"
          ]
        }
      ]
    }
  ],
  "metadata": {
    "accelerator": "GPU",
    "colab": {
      "provenance": [],
      "mount_file_id": "1hr1ga_FK2J9Y_7nnSq-qPqXm4APjcdg5",
      "authorship_tag": "ABX9TyPOltNDxI7f6DfRh1FozZN7",
      "include_colab_link": true
    },
    "kernelspec": {
      "display_name": "Python 3",
      "name": "python3"
    },
    "language_info": {
      "name": "python"
    }
  },
  "nbformat": 4,
  "nbformat_minor": 0
}